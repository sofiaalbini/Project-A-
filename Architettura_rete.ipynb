{
  "nbformat": 4,
  "nbformat_minor": 0,
  "metadata": {
    "colab": {
      "provenance": [],
      "authorship_tag": "ABX9TyMUk/Z0K8E5P94CIq7UJWjO",
      "include_colab_link": true
    },
    "kernelspec": {
      "name": "python3",
      "display_name": "Python 3"
    },
    "language_info": {
      "name": "python"
    }
  },
  "cells": [
    {
      "cell_type": "markdown",
      "metadata": {
        "id": "view-in-github",
        "colab_type": "text"
      },
      "source": [
        "<a href=\"https://colab.research.google.com/github/sofiaalbini/Project-A-/blob/main/Architettura_rete.ipynb\" target=\"_parent\"><img src=\"https://colab.research.google.com/assets/colab-badge.svg\" alt=\"Open In Colab\"/></a>"
      ]
    },
    {
      "cell_type": "code",
      "execution_count": 1,
      "metadata": {
        "id": "waJ60o4W_6dB"
      },
      "outputs": [],
      "source": [
        "import torch\n",
        "import torch.nn as nn\n",
        "import numpy as np\n",
        "\n",
        "class MLP(nn.Module):\n",
        "    def __init__(self, input_size, hidden_size, output_size):\n",
        "        super().__init__()\n",
        "        self.input_size = input_size\n",
        "        self.hidden_size = hidden_size\n",
        "        self.output_size = output_size\n",
        "        self.hidden_layer = nn.Linear(input_size, hidden_size)\n",
        "        self.output_layer = nn.Linear(hidden_size, output_size)\n",
        "        self.activation = nn.ReLU()\n",
        "\n",
        "    def get_total_weights(self):\n",
        "        w1_size = self.input_size * self.hidden_size\n",
        "        b1_size = self.hidden_size\n",
        "        w2_size = self.hidden_size * self.output_size\n",
        "        b2_size = self.output_size\n",
        "        return w1_size + b1_size + w2_size + b2_size\n",
        "\n",
        "    def forward_with_weights(self, x, weights_vector):\n",
        "        w1_size = self.input_size * self.hidden_size\n",
        "        b1_size = self.hidden_size\n",
        "        w2_size = self.hidden_size * self.output_size\n",
        "\n",
        "        w1 = weights_vector[:w1_size].reshape(self.hidden_size, self.input_size)\n",
        "        b1 = weights_vector[w1_size : w1_size + b1_size]\n",
        "        w2 = weights_vector[w1_size + b1_size : w1_size + b1_size + w2_size].reshape(\n",
        "            self.output_size, self.hidden_size\n",
        "        )\n",
        "        b2 = weights_vector[w1_size + b1_size + w2_size :]\n",
        "\n",
        "        if not isinstance(x, torch.Tensor):\n",
        "            x = torch.from_numpy(x).float()\n",
        "        if not isinstance(w1, torch.Tensor):\n",
        "            w1 = torch.from_numpy(w1).float()\n",
        "        if not isinstance(b1, torch.Tensor):\n",
        "            b1 = torch.from_numpy(b1).float()\n",
        "        if not isinstance(w2, torch.Tensor):\n",
        "            w2 = torch.from_numpy(w2).float()\n",
        "        if not isinstance(b2, torch.Tensor):\n",
        "            b2 = torch.from_numpy(b2).float()\n",
        "        if not isinstance(weights_vector, torch.Tensor):\n",
        "            weights_vector = torch.from_numpy(weights_vector).float()\n",
        "\n",
        "        hidden_output = self.activation(torch.matmul(x, w1.T) + b1)\n",
        "        final_output = torch.matmul(hidden_output, w2.T) + b2\n",
        "\n",
        "        return final_output\n"
      ]
    }
  ]
}